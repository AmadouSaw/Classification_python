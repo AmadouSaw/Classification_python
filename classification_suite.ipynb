{
  "cells": [
    {
      "cell_type": "markdown",
      "metadata": {
        "id": "view-in-github",
        "colab_type": "text"
      },
      "source": [
        "<a href=\"https://colab.research.google.com/github/AmadouSaw/Classification_python/blob/main/classification_suite.ipynb\" target=\"_parent\"><img src=\"https://colab.research.google.com/assets/colab-badge.svg\" alt=\"Open In Colab\"/></a>"
      ]
    },
    {
      "cell_type": "markdown",
      "metadata": {
        "id": "HnRW4DKSSoqi"
      },
      "source": [
        "# Classification Linéaire -- suite"
      ]
    },
    {
      "cell_type": "code",
      "execution_count": 1,
      "metadata": {
        "id": "XC4OAw6sSor3"
      },
      "outputs": [],
      "source": [
        "import pandas as pd\n",
        "import numpy as np\n",
        "import matplotlib.pyplot as plt\n",
        "%matplotlib inline"
      ]
    },
    {
      "cell_type": "markdown",
      "metadata": {
        "id": "4GzgpISxSor7"
      },
      "source": [
        "## Dataset Breast cancer"
      ]
    },
    {
      "cell_type": "markdown",
      "metadata": {
        "id": "pFIqlxQBSor8"
      },
      "source": [
        "On veut maintenant utiliser le dataset `sklearn.datasets.load_breast_cancer`."
      ]
    },
    {
      "cell_type": "markdown",
      "metadata": {
        "id": "sUWcdwiySor9"
      },
      "source": [
        "#### 1. Chargez le dataset comme nous l'avons fait pour le dataset `iris`. Pourquoi souhaitons-nous apprendre un modèle de classification sur ce dataset ? Répondez aux questions 2. à 3. du TD précédent pour ce nouveau dataset (utilisez les deux tiers des données pour l'apprentissage)."
      ]
    },
    {
      "cell_type": "markdown",
      "source": [
        "Chargement du dataset \"iris\""
      ],
      "metadata": {
        "id": "Vr1kTVP7TMPa"
      }
    },
    {
      "cell_type": "code",
      "source": [
        "from sklearn.datasets import load_breast_cancer\n",
        "cancer = load_breast_cancer()"
      ],
      "metadata": {
        "id": "dBSdyBBeTGUk"
      },
      "execution_count": 2,
      "outputs": []
    },
    {
      "cell_type": "markdown",
      "source": [
        "Pourquoi apprendre un modèle de classification sur ce dataset?"
      ],
      "metadata": {
        "id": "KItbdgEQTj2a"
      }
    },
    {
      "cell_type": "code",
      "source": [
        "# Description des données\n",
        "print(cancer.DESCR)"
      ],
      "metadata": {
        "colab": {
          "base_uri": "https://localhost:8080/"
        },
        "id": "JPXj3coLT4FY",
        "outputId": "1b613e22-8cd2-46a5-a7ce-c4b11be8400a"
      },
      "execution_count": 3,
      "outputs": [
        {
          "output_type": "stream",
          "name": "stdout",
          "text": [
            ".. _breast_cancer_dataset:\n",
            "\n",
            "Breast cancer wisconsin (diagnostic) dataset\n",
            "--------------------------------------------\n",
            "\n",
            "**Data Set Characteristics:**\n",
            "\n",
            "    :Number of Instances: 569\n",
            "\n",
            "    :Number of Attributes: 30 numeric, predictive attributes and the class\n",
            "\n",
            "    :Attribute Information:\n",
            "        - radius (mean of distances from center to points on the perimeter)\n",
            "        - texture (standard deviation of gray-scale values)\n",
            "        - perimeter\n",
            "        - area\n",
            "        - smoothness (local variation in radius lengths)\n",
            "        - compactness (perimeter^2 / area - 1.0)\n",
            "        - concavity (severity of concave portions of the contour)\n",
            "        - concave points (number of concave portions of the contour)\n",
            "        - symmetry\n",
            "        - fractal dimension (\"coastline approximation\" - 1)\n",
            "\n",
            "        The mean, standard error, and \"worst\" or largest (mean of the three\n",
            "        worst/largest values) of these features were computed for each image,\n",
            "        resulting in 30 features.  For instance, field 0 is Mean Radius, field\n",
            "        10 is Radius SE, field 20 is Worst Radius.\n",
            "\n",
            "        - class:\n",
            "                - WDBC-Malignant\n",
            "                - WDBC-Benign\n",
            "\n",
            "    :Summary Statistics:\n",
            "\n",
            "    ===================================== ====== ======\n",
            "                                           Min    Max\n",
            "    ===================================== ====== ======\n",
            "    radius (mean):                        6.981  28.11\n",
            "    texture (mean):                       9.71   39.28\n",
            "    perimeter (mean):                     43.79  188.5\n",
            "    area (mean):                          143.5  2501.0\n",
            "    smoothness (mean):                    0.053  0.163\n",
            "    compactness (mean):                   0.019  0.345\n",
            "    concavity (mean):                     0.0    0.427\n",
            "    concave points (mean):                0.0    0.201\n",
            "    symmetry (mean):                      0.106  0.304\n",
            "    fractal dimension (mean):             0.05   0.097\n",
            "    radius (standard error):              0.112  2.873\n",
            "    texture (standard error):             0.36   4.885\n",
            "    perimeter (standard error):           0.757  21.98\n",
            "    area (standard error):                6.802  542.2\n",
            "    smoothness (standard error):          0.002  0.031\n",
            "    compactness (standard error):         0.002  0.135\n",
            "    concavity (standard error):           0.0    0.396\n",
            "    concave points (standard error):      0.0    0.053\n",
            "    symmetry (standard error):            0.008  0.079\n",
            "    fractal dimension (standard error):   0.001  0.03\n",
            "    radius (worst):                       7.93   36.04\n",
            "    texture (worst):                      12.02  49.54\n",
            "    perimeter (worst):                    50.41  251.2\n",
            "    area (worst):                         185.2  4254.0\n",
            "    smoothness (worst):                   0.071  0.223\n",
            "    compactness (worst):                  0.027  1.058\n",
            "    concavity (worst):                    0.0    1.252\n",
            "    concave points (worst):               0.0    0.291\n",
            "    symmetry (worst):                     0.156  0.664\n",
            "    fractal dimension (worst):            0.055  0.208\n",
            "    ===================================== ====== ======\n",
            "\n",
            "    :Missing Attribute Values: None\n",
            "\n",
            "    :Class Distribution: 212 - Malignant, 357 - Benign\n",
            "\n",
            "    :Creator:  Dr. William H. Wolberg, W. Nick Street, Olvi L. Mangasarian\n",
            "\n",
            "    :Donor: Nick Street\n",
            "\n",
            "    :Date: November, 1995\n",
            "\n",
            "This is a copy of UCI ML Breast Cancer Wisconsin (Diagnostic) datasets.\n",
            "https://goo.gl/U2Uwz2\n",
            "\n",
            "Features are computed from a digitized image of a fine needle\n",
            "aspirate (FNA) of a breast mass.  They describe\n",
            "characteristics of the cell nuclei present in the image.\n",
            "\n",
            "Separating plane described above was obtained using\n",
            "Multisurface Method-Tree (MSM-T) [K. P. Bennett, \"Decision Tree\n",
            "Construction Via Linear Programming.\" Proceedings of the 4th\n",
            "Midwest Artificial Intelligence and Cognitive Science Society,\n",
            "pp. 97-101, 1992], a classification method which uses linear\n",
            "programming to construct a decision tree.  Relevant features\n",
            "were selected using an exhaustive search in the space of 1-4\n",
            "features and 1-3 separating planes.\n",
            "\n",
            "The actual linear program used to obtain the separating plane\n",
            "in the 3-dimensional space is that described in:\n",
            "[K. P. Bennett and O. L. Mangasarian: \"Robust Linear\n",
            "Programming Discrimination of Two Linearly Inseparable Sets\",\n",
            "Optimization Methods and Software 1, 1992, 23-34].\n",
            "\n",
            "This database is also available through the UW CS ftp server:\n",
            "\n",
            "ftp ftp.cs.wisc.edu\n",
            "cd math-prog/cpo-dataset/machine-learn/WDBC/\n",
            "\n",
            ".. topic:: References\n",
            "\n",
            "   - W.N. Street, W.H. Wolberg and O.L. Mangasarian. Nuclear feature extraction \n",
            "     for breast tumor diagnosis. IS&T/SPIE 1993 International Symposium on \n",
            "     Electronic Imaging: Science and Technology, volume 1905, pages 861-870,\n",
            "     San Jose, CA, 1993.\n",
            "   - O.L. Mangasarian, W.N. Street and W.H. Wolberg. Breast cancer diagnosis and \n",
            "     prognosis via linear programming. Operations Research, 43(4), pages 570-577, \n",
            "     July-August 1995.\n",
            "   - W.H. Wolberg, W.N. Street, and O.L. Mangasarian. Machine learning techniques\n",
            "     to diagnose breast cancer from fine-needle aspirates. Cancer Letters 77 (1994) \n",
            "     163-171.\n"
          ]
        }
      ]
    },
    {
      "cell_type": "markdown",
      "source": [
        "**On veut faire la prédiction avec une variable dépendante qui est class:**\n",
        "\n",
        "                - WDBC-Malignant\n",
        "                - WDBC-Benign\n",
        "\n",
        "**Cela nous permet de dire que nous avons un problème de classification**.  "
      ],
      "metadata": {
        "id": "XWSQatOpTzty"
      }
    },
    {
      "cell_type": "markdown",
      "metadata": {
        "id": "eKIQhZNMSosC"
      },
      "source": [
        "#### 2. Utilisez l'algorithme `sklearn.linear_model.LogisticRegression` pour apprendre un modèle en utilisant une régularisation de type `l2` et le solveur `liblinear`. Calculez l'erreur empirique et l'erreur en généralisation."
      ]
    },
    {
      "cell_type": "markdown",
      "source": [
        "Le domaine des instances $\\mathcal{X}$ est **$\\mathcal{R}^{30}$** et l'ensemble des étiquettes $\\mathcal{Y}$ est **{0,1}** car je dispose de deux classes."
      ],
      "metadata": {
        "id": "l0A0jq72WsWX"
      }
    },
    {
      "cell_type": "markdown",
      "source": [
        "Transformation des données en une DataFrame de la librairie pandas."
      ],
      "metadata": {
        "id": "Bd8qGg6gYY_v"
      }
    },
    {
      "cell_type": "code",
      "source": [
        "X = pd.DataFrame(cancer.data, columns=['mean radius' ,'mean texture', 'mean perimeter' ,'mean area',\n",
        "    'mean smoothness' ,'mean compactness', 'mean concavity',\n",
        "    'mean concave points', 'mean symmetry', 'mean fractal dimension',\n",
        "    'radius error', 'texture error', 'perimeter error', 'area error',\n",
        "    'smoothness error', 'compactness error' ,'concavity error',\n",
        "    'concave points error' ,'symmetry error' ,'fractal dimension error',\n",
        "    'worst radius' ,'worst texture', 'worst perimeter' ,'worst area',\n",
        "    'worst smoothness', 'worst compactness' ,'worst concavity',\n",
        "    'worst concave points' ,'worst symmetry' ,'worst fractal dimension'])\n",
        "y = pd.Series(cancer.target)"
      ],
      "metadata": {
        "id": "HXpSc2UdWrlk"
      },
      "execution_count": 4,
      "outputs": []
    },
    {
      "cell_type": "markdown",
      "source": [
        "la fonction sklearn.model_selection.train_test_split pour diviser les données en un ensemble d'entraînement et de test"
      ],
      "metadata": {
        "id": "fE_nlKoFa4sT"
      }
    },
    {
      "cell_type": "code",
      "source": [
        "from sklearn.model_selection import train_test_split\n",
        "\n",
        "X_train, X_test, y_train, y_test = train_test_split(X, y, train_size=0.67)"
      ],
      "metadata": {
        "id": "n2JrQheDbCnK"
      },
      "execution_count": 5,
      "outputs": []
    },
    {
      "cell_type": "code",
      "source": [
        "X_train.shape"
      ],
      "metadata": {
        "colab": {
          "base_uri": "https://localhost:8080/"
        },
        "id": "7xChfTqabR4_",
        "outputId": "af8625bc-152c-4ba3-85dc-32d618521450"
      },
      "execution_count": 6,
      "outputs": [
        {
          "output_type": "execute_result",
          "data": {
            "text/plain": [
              "(381, 30)"
            ]
          },
          "metadata": {},
          "execution_count": 6
        }
      ]
    },
    {
      "cell_type": "code",
      "source": [
        "X_test.shape"
      ],
      "metadata": {
        "colab": {
          "base_uri": "https://localhost:8080/"
        },
        "id": "2pKZEmjhbWVY",
        "outputId": "7d137d6b-806a-42d9-ea4a-cf7fc500b8be"
      },
      "execution_count": 7,
      "outputs": [
        {
          "output_type": "execute_result",
          "data": {
            "text/plain": [
              "(188, 30)"
            ]
          },
          "metadata": {},
          "execution_count": 7
        }
      ]
    },
    {
      "cell_type": "code",
      "source": [
        "y_train.shape"
      ],
      "metadata": {
        "colab": {
          "base_uri": "https://localhost:8080/"
        },
        "id": "d-zsrbVHbbIz",
        "outputId": "02657d74-b0ae-4c51-b09d-365e580b5167"
      },
      "execution_count": 8,
      "outputs": [
        {
          "output_type": "execute_result",
          "data": {
            "text/plain": [
              "(381,)"
            ]
          },
          "metadata": {},
          "execution_count": 8
        }
      ]
    },
    {
      "cell_type": "code",
      "source": [
        "y_test.shape"
      ],
      "metadata": {
        "colab": {
          "base_uri": "https://localhost:8080/"
        },
        "id": "WEJjECPubhEP",
        "outputId": "a529cd64-c0a8-44ed-f983-cae396233f68"
      },
      "execution_count": 9,
      "outputs": [
        {
          "output_type": "execute_result",
          "data": {
            "text/plain": [
              "(188,)"
            ]
          },
          "metadata": {},
          "execution_count": 9
        }
      ]
    },
    {
      "cell_type": "markdown",
      "source": [
        "Utilisation l'algorithme sklearn.linear_model.LogisticRegression pour apprendre un modèle en utilisant une régularisation de type l2 et le solveur liblinear"
      ],
      "metadata": {
        "id": "GOWlxID3ZhCq"
      }
    },
    {
      "cell_type": "code",
      "source": [
        "from sklearn.linear_model import LogisticRegression\n",
        "\n",
        "clf_cancer = LogisticRegression(random_state=0, penalty='l2', solver='liblinear').fit(X, y)"
      ],
      "metadata": {
        "id": "evN07CqdZoSO"
      },
      "execution_count": 10,
      "outputs": []
    },
    {
      "cell_type": "markdown",
      "source": [
        "Calcul de l'erreur empirique et de l'erreur en généralisation."
      ],
      "metadata": {
        "id": "edCs1gmqc4jo"
      }
    },
    {
      "cell_type": "code",
      "source": [
        "from sklearn.metrics import mean_squared_error\n",
        "\n",
        "print(\"erreur empirique: \" , mean_squared_error(y_train, clf_cancer.predict(X_train)))\n",
        "print(\"erreur en généralisation: \" , mean_squared_error(y_test, clf_cancer.predict(X_test)))"
      ],
      "metadata": {
        "colab": {
          "base_uri": "https://localhost:8080/"
        },
        "id": "uVbT6-kedAQK",
        "outputId": "6a2370b6-7794-4026-9591-da868d2ba7c5"
      },
      "execution_count": 12,
      "outputs": [
        {
          "output_type": "stream",
          "name": "stdout",
          "text": [
            "erreur empirique:  0.03674540682414698\n",
            "erreur en généralisation:  0.047872340425531915\n"
          ]
        }
      ]
    },
    {
      "cell_type": "markdown",
      "metadata": {
        "id": "zTz2BiwwSosC"
      },
      "source": [
        "#### 3. Par défaut la régression logistique permet d'apprendre des classificateurs linéaires. En vous inspirant des cours sur la régression, proposez une solution pour apprendre des classificateurs non linéaires en utilisant une régression logistique. Justifiez votre approche et vos éventuels choix de paramètres."
      ]
    },
    {
      "cell_type": "markdown",
      "source": [
        "Pour permettre au modèle de s'ajuster à des données ayant des relations non-linéaires on veut modifier nos données en rajoutant les dimensions suivantes: x 2 , x 3 , ..., x d . Il existe une classe d'objects de scikit-learn qui fait justement ça:"
      ],
      "metadata": {
        "id": "aQ21kHMYiQxI"
      }
    },
    {
      "cell_type": "code",
      "source": [
        "from sklearn.preprocessing import PolynomialFeatures\n",
        "x = np.array([2, 3, 4])\n",
        "poly = PolynomialFeatures(3, include_bias=False)\n",
        "poly.fit_transform(x[:, None])"
      ],
      "metadata": {
        "colab": {
          "base_uri": "https://localhost:8080/"
        },
        "id": "xNs2AcRliTu1",
        "outputId": "6392f9dd-e0e4-40d8-c86a-5318fb78e8f0"
      },
      "execution_count": 13,
      "outputs": [
        {
          "output_type": "execute_result",
          "data": {
            "text/plain": [
              "array([[ 2.,  4.,  8.],\n",
              "       [ 3.,  9., 27.],\n",
              "       [ 4., 16., 64.]])"
            ]
          },
          "metadata": {},
          "execution_count": 13
        }
      ]
    },
    {
      "cell_type": "markdown",
      "source": [
        "(Notez le paramètre include_bias, que se passe t-il si on le met a vrai?)."
      ],
      "metadata": {
        "id": "rbd3HGMAiayk"
      }
    },
    {
      "cell_type": "code",
      "source": [
        "\n",
        "from sklearn.pipeline import make_pipeline\n",
        "from sklearn.metrics import mean_squared_error\n",
        "\n",
        "d = 4\n",
        "poly_log_lin = make_pipeline(PolynomialFeatures(d),\n",
        "                           LogisticRegression(random_state=0, penalty='l2', solver='liblinear'))\n",
        "poly_log_lin.fit(X, y)"
      ],
      "metadata": {
        "colab": {
          "base_uri": "https://localhost:8080/",
          "height": 125
        },
        "id": "e6Q_SmD9ihfA",
        "outputId": "37a9c6fb-8d0d-4ce8-9db9-e84a0345873c"
      },
      "execution_count": 14,
      "outputs": [
        {
          "output_type": "execute_result",
          "data": {
            "text/plain": [
              "Pipeline(steps=[('polynomialfeatures', PolynomialFeatures(degree=4)),\n",
              "                ('logisticregression',\n",
              "                 LogisticRegression(random_state=0, solver='liblinear'))])"
            ],
            "text/html": [
              "<style>#sk-container-id-1 {color: black;background-color: white;}#sk-container-id-1 pre{padding: 0;}#sk-container-id-1 div.sk-toggleable {background-color: white;}#sk-container-id-1 label.sk-toggleable__label {cursor: pointer;display: block;width: 100%;margin-bottom: 0;padding: 0.3em;box-sizing: border-box;text-align: center;}#sk-container-id-1 label.sk-toggleable__label-arrow:before {content: \"▸\";float: left;margin-right: 0.25em;color: #696969;}#sk-container-id-1 label.sk-toggleable__label-arrow:hover:before {color: black;}#sk-container-id-1 div.sk-estimator:hover label.sk-toggleable__label-arrow:before {color: black;}#sk-container-id-1 div.sk-toggleable__content {max-height: 0;max-width: 0;overflow: hidden;text-align: left;background-color: #f0f8ff;}#sk-container-id-1 div.sk-toggleable__content pre {margin: 0.2em;color: black;border-radius: 0.25em;background-color: #f0f8ff;}#sk-container-id-1 input.sk-toggleable__control:checked~div.sk-toggleable__content {max-height: 200px;max-width: 100%;overflow: auto;}#sk-container-id-1 input.sk-toggleable__control:checked~label.sk-toggleable__label-arrow:before {content: \"▾\";}#sk-container-id-1 div.sk-estimator input.sk-toggleable__control:checked~label.sk-toggleable__label {background-color: #d4ebff;}#sk-container-id-1 div.sk-label input.sk-toggleable__control:checked~label.sk-toggleable__label {background-color: #d4ebff;}#sk-container-id-1 input.sk-hidden--visually {border: 0;clip: rect(1px 1px 1px 1px);clip: rect(1px, 1px, 1px, 1px);height: 1px;margin: -1px;overflow: hidden;padding: 0;position: absolute;width: 1px;}#sk-container-id-1 div.sk-estimator {font-family: monospace;background-color: #f0f8ff;border: 1px dotted black;border-radius: 0.25em;box-sizing: border-box;margin-bottom: 0.5em;}#sk-container-id-1 div.sk-estimator:hover {background-color: #d4ebff;}#sk-container-id-1 div.sk-parallel-item::after {content: \"\";width: 100%;border-bottom: 1px solid gray;flex-grow: 1;}#sk-container-id-1 div.sk-label:hover label.sk-toggleable__label {background-color: #d4ebff;}#sk-container-id-1 div.sk-serial::before {content: \"\";position: absolute;border-left: 1px solid gray;box-sizing: border-box;top: 0;bottom: 0;left: 50%;z-index: 0;}#sk-container-id-1 div.sk-serial {display: flex;flex-direction: column;align-items: center;background-color: white;padding-right: 0.2em;padding-left: 0.2em;position: relative;}#sk-container-id-1 div.sk-item {position: relative;z-index: 1;}#sk-container-id-1 div.sk-parallel {display: flex;align-items: stretch;justify-content: center;background-color: white;position: relative;}#sk-container-id-1 div.sk-item::before, #sk-container-id-1 div.sk-parallel-item::before {content: \"\";position: absolute;border-left: 1px solid gray;box-sizing: border-box;top: 0;bottom: 0;left: 50%;z-index: -1;}#sk-container-id-1 div.sk-parallel-item {display: flex;flex-direction: column;z-index: 1;position: relative;background-color: white;}#sk-container-id-1 div.sk-parallel-item:first-child::after {align-self: flex-end;width: 50%;}#sk-container-id-1 div.sk-parallel-item:last-child::after {align-self: flex-start;width: 50%;}#sk-container-id-1 div.sk-parallel-item:only-child::after {width: 0;}#sk-container-id-1 div.sk-dashed-wrapped {border: 1px dashed gray;margin: 0 0.4em 0.5em 0.4em;box-sizing: border-box;padding-bottom: 0.4em;background-color: white;}#sk-container-id-1 div.sk-label label {font-family: monospace;font-weight: bold;display: inline-block;line-height: 1.2em;}#sk-container-id-1 div.sk-label-container {text-align: center;}#sk-container-id-1 div.sk-container {/* jupyter's `normalize.less` sets `[hidden] { display: none; }` but bootstrap.min.css set `[hidden] { display: none !important; }` so we also need the `!important` here to be able to override the default hidden behavior on the sphinx rendered scikit-learn.org. See: https://github.com/scikit-learn/scikit-learn/issues/21755 */display: inline-block !important;position: relative;}#sk-container-id-1 div.sk-text-repr-fallback {display: none;}</style><div id=\"sk-container-id-1\" class=\"sk-top-container\"><div class=\"sk-text-repr-fallback\"><pre>Pipeline(steps=[(&#x27;polynomialfeatures&#x27;, PolynomialFeatures(degree=4)),\n",
              "                (&#x27;logisticregression&#x27;,\n",
              "                 LogisticRegression(random_state=0, solver=&#x27;liblinear&#x27;))])</pre><b>In a Jupyter environment, please rerun this cell to show the HTML representation or trust the notebook. <br />On GitHub, the HTML representation is unable to render, please try loading this page with nbviewer.org.</b></div><div class=\"sk-container\" hidden><div class=\"sk-item sk-dashed-wrapped\"><div class=\"sk-label-container\"><div class=\"sk-label sk-toggleable\"><input class=\"sk-toggleable__control sk-hidden--visually\" id=\"sk-estimator-id-1\" type=\"checkbox\" ><label for=\"sk-estimator-id-1\" class=\"sk-toggleable__label sk-toggleable__label-arrow\">Pipeline</label><div class=\"sk-toggleable__content\"><pre>Pipeline(steps=[(&#x27;polynomialfeatures&#x27;, PolynomialFeatures(degree=4)),\n",
              "                (&#x27;logisticregression&#x27;,\n",
              "                 LogisticRegression(random_state=0, solver=&#x27;liblinear&#x27;))])</pre></div></div></div><div class=\"sk-serial\"><div class=\"sk-item\"><div class=\"sk-estimator sk-toggleable\"><input class=\"sk-toggleable__control sk-hidden--visually\" id=\"sk-estimator-id-2\" type=\"checkbox\" ><label for=\"sk-estimator-id-2\" class=\"sk-toggleable__label sk-toggleable__label-arrow\">PolynomialFeatures</label><div class=\"sk-toggleable__content\"><pre>PolynomialFeatures(degree=4)</pre></div></div></div><div class=\"sk-item\"><div class=\"sk-estimator sk-toggleable\"><input class=\"sk-toggleable__control sk-hidden--visually\" id=\"sk-estimator-id-3\" type=\"checkbox\" ><label for=\"sk-estimator-id-3\" class=\"sk-toggleable__label sk-toggleable__label-arrow\">LogisticRegression</label><div class=\"sk-toggleable__content\"><pre>LogisticRegression(random_state=0, solver=&#x27;liblinear&#x27;)</pre></div></div></div></div></div></div></div>"
            ]
          },
          "metadata": {},
          "execution_count": 14
        }
      ]
    },
    {
      "cell_type": "markdown",
      "metadata": {
        "id": "-mN4gwKASosD"
      },
      "source": [
        "#### 4. Calculez l'erreur empirique et l'erreur en généralisation des modèles appris par votre approche. Que constatez-vous ?"
      ]
    },
    {
      "cell_type": "code",
      "source": [
        "from sklearn.metrics import zero_one_loss\n",
        "\n",
        "print(\"erreur empirique: \" ,zero_one_loss(y_train, poly_log_lin.predict(X_train)))\n",
        "print(\"erreur en généralisation: \" ,zero_one_loss(y_test, poly_log_lin.predict(X_test)))"
      ],
      "metadata": {
        "colab": {
          "base_uri": "https://localhost:8080/"
        },
        "id": "C5x1KNe3n-tM",
        "outputId": "0cc00231-f2f6-4ad5-8ac9-0a33b9ec9e02"
      },
      "execution_count": 16,
      "outputs": [
        {
          "output_type": "stream",
          "name": "stdout",
          "text": [
            "erreur empirique:  0.04199475065616798\n",
            "erreur en généralisation:  0.06914893617021278\n"
          ]
        }
      ]
    },
    {
      "cell_type": "markdown",
      "source": [
        "Nous constatons que la regression logistique est meilleure que la regression logistique polynômiale en ces termes que les erreurs sont plus petites par rapport à la regression logistique polynômiale."
      ],
      "metadata": {
        "id": "yuTSS5QnWwlD"
      }
    },
    {
      "cell_type": "markdown",
      "metadata": {
        "id": "ttiWIT5fSosH"
      },
      "source": [
        "#### 5. Utilisez l'algorithme du `sklearn.neighbors.KNeighborsClassifier` pour apprendre un nouveau modèle. Un paramètre très important de cet algorithme est le nombre `n_neighbors` de voisins sélectionnés.  Quelle valeur vous semble la plus appropriée pour ce dataset ? Justifiez."
      ]
    },
    {
      "cell_type": "markdown",
      "metadata": {
        "id": "Wpr_w_e7SosI"
      },
      "source": [
        "## Dataset Two moons"
      ]
    },
    {
      "cell_type": "code",
      "execution_count": 17,
      "metadata": {
        "id": "PovfvazGSosJ"
      },
      "outputs": [],
      "source": [
        "from sklearn.datasets import make_moons\n",
        "moons = make_moons(1000,noise=0.1)\n",
        "moons_data = pd.DataFrame(moons[0])\n",
        "moons_target = pd.Series(moons[1])"
      ]
    },
    {
      "cell_type": "markdown",
      "source": [
        "On va disviser nos données en données d'apprentissage et de test"
      ],
      "metadata": {
        "id": "9TC9VlwxcEq2"
      }
    },
    {
      "cell_type": "code",
      "source": [
        "from sklearn.model_selection import train_test_split\n",
        "\n",
        "moons_train, moons_test, ymoons_train, ymoons_test = train_test_split(moons_data, moons_target, train_size=0.67)"
      ],
      "metadata": {
        "id": "up4uXcDkcDFX"
      },
      "execution_count": 66,
      "outputs": []
    },
    {
      "cell_type": "markdown",
      "source": [
        "Apprenons notre modèle par les knn"
      ],
      "metadata": {
        "id": "aRrq50iLcd5j"
      }
    },
    {
      "cell_type": "code",
      "source": [
        "from sklearn.neighbors import KNeighborsClassifier\n",
        "\n",
        "#moons_train, moons_test, ymoons_train, ymoons_test = train_test_split(moons_data, moons_target, train_size=0.67)\n",
        "\n",
        "erreur_emp = []\n",
        "erreur_gen = []\n",
        "# On va faire varier k de 1 à 11\n",
        "k_s = range(1, 11)\n",
        "\n",
        "for k in k_s:\n",
        "    # construction du modèle\n",
        "    clf = KNeighborsClassifier(n_neighbors=k)\n",
        "    clf.fit(moons_train, ymoons_train)\n",
        "    # ajout des erreurs empiriques\n",
        "    erreur_emp.append(clf.score(moons_train, ymoons_train))\n",
        "    # ajout des erreurs en généralisation\n",
        "    erreur_gen.append(clf.score(moons_test, ymoons_test))\n",
        "\n",
        "#Affichage des erreurs\n",
        "plt.figure(figsize=(10,6))\n",
        "plt.plot(k_s, erreur_emp, label=\"erreur empirique\")\n",
        "plt.plot(k_s, erreur_gen, label=\"erreur en généralisation\")\n",
        "plt.ylabel(\"erreur\")\n",
        "plt.xlabel(\"k\")\n",
        "plt.legend()"
      ],
      "metadata": {
        "colab": {
          "base_uri": "https://localhost:8080/",
          "height": 406
        },
        "id": "fcY0RtfmfW12",
        "outputId": "afca93b4-5bfe-49c4-973d-5e426b375e2f"
      },
      "execution_count": 67,
      "outputs": [
        {
          "output_type": "execute_result",
          "data": {
            "text/plain": [
              "<matplotlib.legend.Legend at 0x7f47aa1b3b50>"
            ]
          },
          "metadata": {},
          "execution_count": 67
        },
        {
          "output_type": "display_data",
          "data": {
            "text/plain": [
              "<Figure size 720x432 with 1 Axes>"
            ],
            "image/png": "[encoded data removed]"
          },
          "metadata": {
            "needs_background": "light"
          }
        }
      ]
    },
    {
      "cell_type": "markdown",
      "metadata": {
        "id": "DVgSOpiQSosP"
      },
      "source": [
        "#### 6. Les approches non linéaires sont plutôt décevantes sur le dataset `breast cancer`. Montrez leur intérêt en étudiant le dataset jouet two moons créé ci-dessus. N'oubliez pas que vous pouvez utiliser la méthode `visualize` pour afficher la frontière de décision d'un classificateur sur des données en 2 dimensions."
      ]
    }
  ],
  "metadata": {
    "kernelspec": {
      "display_name": "Python 3",
      "language": "python",
      "name": "python3"
    },
    "language_info": {
      "codemirror_mode": {
        "name": "ipython",
        "version": 3
      },
      "file_extension": ".py",
      "mimetype": "text/x-python",
      "name": "python",
      "nbconvert_exporter": "python",
      "pygments_lexer": "ipython3",
      "version": "3.10.6"
    },
    "colab": {
      "provenance": [],
      "include_colab_link": true
    }
  },
  "nbformat": 4,
  "nbformat_minor": 0
}